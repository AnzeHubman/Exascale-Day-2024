{
 "cells": [
  {
   "cell_type": "markdown",
   "id": "b82779ae-ee61-476a-b6cf-d378c4c586c3",
   "metadata": {},
   "source": [
    "# Simulacija POPC membrane\n",
    "\n",
    "Simulirali boste modelno membrano, sestavljeno iz molekul 1-palmitoil-2-oleoil-glicero-3-fosfoholina (POPC) pri sobni temperaturi in atmosferskem tlaku. Za čim bolj realistično situacijo, bo membrana obdana s topilom - vodo. Uporabili boste odprtokodni program GROMACS in polje sil (t.j. opis interakcij med delci) Martini 3. \n",
    "\n",
    "V polju sil Martini je več atomov vnaprej združenih v \"psevdo-atome\", kar pomeni, da je opis manj natančen kot bi bil, če bi se ukvarjali z vsakim atomom posebej. Kljub temu, je v primeru membran fizikalna slika precej dobro predstavljena, za simulacije v spodnjem obsegu pa ne potrebujemo superračunalnika.\n",
    "\n",
    "**Oglejte si:**\n",
    "- Souza, P.C.T., Alessandri, R., Barnoud, J. et al. Martini 3: a general purpose force field for coarse-grained molecular dynamics. Nat Methods 18, 382–388 (2021). https://doi.org/10.1038/s41592-021-01098-3\n",
    "- https://www.gromacs.org/\n",
    "\n",
    "Kontakt: anze.hubman@ki.si"
   ]
  },
  {
   "cell_type": "markdown",
   "id": "bf3a7dcc-3f00-4135-af4d-22e246911209",
   "metadata": {},
   "source": [
    "#### Uvozimo zahtevane programske knjiznice:"
   ]
  },
  {
   "cell_type": "code",
   "execution_count": null,
   "id": "20514d92-ee2a-4ad3-9ff8-5453ecb6ba6b",
   "metadata": {},
   "outputs": [],
   "source": [
    "import numpy as np\n",
    "import matplotlib.pyplot as plt"
   ]
  },
  {
   "cell_type": "markdown",
   "id": "0ca0828a-c992-4fb3-a84b-8e1bcfd796c7",
   "metadata": {},
   "source": [
    "#### 0. Generiranje zacetnih koordinat:"
   ]
  },
  {
   "cell_type": "markdown",
   "id": "ee2a2b28-53a1-481c-ada3-3a2c7de6e038",
   "metadata": {},
   "source": [
    "Vhodne koordinate, zbrane v datoteki bilayer.gro so bile predhodno generirane s programom insane.py, ki so ga spisali razvijalci polja sil Martini. Program omogoča generiranje \"razumnega\" začetnega stanja, ki je precej blizu dejanskemu: lipidni dvosloj, ki je z vsake strani simetrično obdan z vodo. Hidrofilni deli verig so vodi izpostavljeni, hidrofobni pa skriti v notranjosti membrane.\n",
    "\n",
    "V principu bi lahko simulacijo začeli tudi s povsem naključnimi orientacijami lipidnih verig, vendar bi v tem primeru morali izvesti precej dolgo simulacijo in počakati, da se dvosloj tvori spontano."
   ]
  },
  {
   "cell_type": "markdown",
   "id": "e4f90aa5-8668-4313-8524-ca030aef60cf",
   "metadata": {},
   "source": [
    "#### 1. Minimizacija:\n",
    "\n",
    "Energijska minimizacija je nujen predhodni korak vsake simulacije molekulske dinamike. Kljub temu, da smo v prehodnem koraku sestavili kolikor je možno dober začetni približek, so med nekaterimi atomi še vedno prisotne nerealistično visoke sile. Z minimizacijo se takšnih kontaktov znebimo. V primeru, da bi ta korak izpustili, bi tekom simulacije visoke sile povzročile izjemne pospeške določenih atomov in sistem bi postal nestabilen. V žargonu rečemo, da \"sistem raznese\"."
   ]
  },
  {
   "cell_type": "code",
   "execution_count": null,
   "id": "38493d77-4e41-4b27-abc2-67f93c2307c4",
   "metadata": {},
   "outputs": [],
   "source": [
    "!gmx grompp -f minimizacija.mdp -c bilayer.gro -p topol.top -o min.tpr"
   ]
  },
  {
   "cell_type": "code",
   "execution_count": null,
   "id": "fc70e6af-a8fd-4c56-bab7-10af637faf75",
   "metadata": {},
   "outputs": [],
   "source": [
    "!gmx mdrun -deffnm min"
   ]
  },
  {
   "cell_type": "markdown",
   "id": "a4dbd6bd-8edc-4e6c-aaf1-48fcbd7ea411",
   "metadata": {},
   "source": [
    "Uspešnost minimizacije najlažje preverimo tako, da si ogledamo potek spreminjanja potencialne energije v odvisnosti od minimizacijskega koraka. Ko se vrednost potencialne energije ustali, lahko minimizacijo ustavimo. Oglejmo si omenjen potek za naš primer:"
   ]
  },
  {
   "cell_type": "code",
   "execution_count": null,
   "id": "de0b06c8-071b-4328-806b-fb566833435f",
   "metadata": {},
   "outputs": [],
   "source": [
    "!echo 5 | gmx energy -f min.edr -o pe_minimizacija.xvg -xvg none"
   ]
  },
  {
   "cell_type": "code",
   "execution_count": null,
   "id": "13a7f909-1488-4fe2-a5eb-0de8ba04f914",
   "metadata": {},
   "outputs": [],
   "source": [
    "data = np.loadtxt('pe_minimizacija.xvg')\n",
    "plt.xlabel(r'Korak minimizacije')\n",
    "plt.ylabel(r'Potencialna energija $U \\times 10^{-6}$ [kJ/mol]')\n",
    "plt.grid(linestyle='--')\n",
    "plt.semilogx(data[:,0],data[:,1]*1e-6)\n",
    "plt.tight_layout()\n",
    "plt.show()"
   ]
  },
  {
   "cell_type": "markdown",
   "id": "a3885065-1269-4c4b-893d-44704a8f7453",
   "metadata": {},
   "source": [
    "#### 2. Simulacija molekulske dinamike:\n",
    "\n",
    "Minimizirana struktura bo predstavljala naše začetne koordinate za simulacijo MD. Potrebujemo še začetne hitrosti, ki jih bomo naključno jemali iz Boltzmannove porazdelitve pri T = 300 K in jih pripisali atomom v našem sistemu. Simulirali bomo 10 ns življenja naše membrane s korakom 20 fs. "
   ]
  },
  {
   "cell_type": "code",
   "execution_count": null,
   "id": "52b12d9c-5aaa-4b18-b362-94f743a1eef4",
   "metadata": {},
   "outputs": [],
   "source": [
    "!gmx grompp -f dinamika.mdp -c min.gro -p topol.top -o din.tpr"
   ]
  },
  {
   "cell_type": "code",
   "execution_count": null,
   "id": "8e45f7d1-bc8b-4f63-b9c3-6a5fa2112920",
   "metadata": {},
   "outputs": [],
   "source": [
    "!gmx mdrun -deffnm din -v"
   ]
  },
  {
   "cell_type": "markdown",
   "id": "5c7a38de-44da-49b5-a478-b94e29513d59",
   "metadata": {},
   "source": [
    "Oglejmo si, kaj se tekom simulacije dogaja s temperaturo in potencialno energijo sistema:"
   ]
  },
  {
   "cell_type": "code",
   "execution_count": null,
   "id": "93ada3a3-35e7-4eb5-9a11-014f697dafa5",
   "metadata": {},
   "outputs": [],
   "source": [
    "!echo 5 | gmx energy -f din.edr -o pe_dinamika.xvg -xvg none"
   ]
  },
  {
   "cell_type": "code",
   "execution_count": null,
   "id": "28641ac0-ab75-4e9b-a0af-412c09133d43",
   "metadata": {},
   "outputs": [],
   "source": [
    "!echo 9 | gmx energy -f din.edr -o T_dinamika.xvg -xvg none"
   ]
  },
  {
   "cell_type": "code",
   "execution_count": null,
   "id": "b60aa183-3845-419e-97b6-2c4b0ed7d728",
   "metadata": {},
   "outputs": [],
   "source": [
    "fig, ax = plt.subplots(2,1,sharex=True)\n",
    "Trun = []\n",
    "trun = []\n",
    "temp = np.loadtxt('T_dinamika.xvg')\n",
    "for i in range(1,temp.shape[0]):\n",
    "    Trun.append(np.mean(temp[:i,1]))\n",
    "    trun.append(i*(temp[1,0]-temp[0,0]))\n",
    "ax[0].semilogx(temp[:,0],temp[:,1],label='trenutna temperatura')\n",
    "ax[0].semilogx(trun,Trun,label='povprecna temperatura')\n",
    "#ax[0].set_xlabel(r'$t$ (ps)')\n",
    "ax[0].set_ylabel(r'Temperatura (K)')\n",
    "ax[0].grid(linestyle='--')\n",
    "ax[0].legend()\n",
    "\n",
    "pot = np.loadtxt('pe_dinamika.xvg')\n",
    "ax[1].semilogx(pot[:,0],pot[:,1]*1e-6,color='tab:red')\n",
    "ax[1].set_xlabel(r'$t$ (ps)')\n",
    "ax[1].set_ylabel(r'Potencialna energija $U \\times 10^{-6}$ [kJ/mol]')\n",
    "ax[1].set_ylim([-0.44,-0.38])\n",
    "ax[1].grid(linestyle='--')\n",
    "plt.tight_layout()\n",
    "plt.show()"
   ]
  },
  {
   "cell_type": "markdown",
   "id": "d424fbe6-ff0d-4c40-8472-9bf0957d9666",
   "metadata": {},
   "source": [
    "Opazimo, da se obe količini po nekaj ps ustalita, vendar kljub temu oscilirata okoli ravnovesne lege. Takšne oscilacije so v mikroskopskih sistemih neizogibne. Z večanjem števila delcev sicer postanejo zanemarljive in jih v vsakdanjem svetu ne moremo neposredno zaznati."
   ]
  },
  {
   "cell_type": "markdown",
   "id": "ad665a43-1101-435f-b81d-7a736a3b4e23",
   "metadata": {},
   "source": [
    "#### 3. Vizualizacija:\n",
    "\n",
    "Oglejmo si še filmček naše simulacije. Odprite nov terminal, postavite se v delovni direktorij in ponovno poženite ukaze:\n",
    "\n",
    "1. conda env create --name vizualizacija --file visual.yml\n",
    "1. conda activate vizualizacija\n",
    "2. vmd min.gro din.xtc\n",
    "\n",
    "Odpre se vam okno programa VMD, kjer vidite naš sistem. V polju Graphics > Representations > Drawing Method izberite možnost VDW. Filmček poženete s pritiskom na znak Play v spodnjem desnem kotu okna VMD Main. \n",
    "\n",
    "Če pozorno opazujete membrano, boste opazili gibanje, ki spominja na valovanje. Takšnim valovom rečemo undulacije in so univerzalna lastnost membran. Nakazujejo na dejstvo, da so membrane v resnici precej mehke strukture na katere vplivajo že nihanja temperature. Jakost undulacij je odvisna tudi od morebitnih vključkov, ki se pojavljajo v realnih membranah. Eden izmed takih vključkov je vsem znani holesterol, ki med drugim regulira rigidnost membran. Obstaja še drugačen način gibanja, ki se odvija v smeri normale na membrano - peristaltična gibanja, ki pa so v našem primeru težko opazna.\n",
    "\n",
    "Matematična analiza opisanih valovanj je precej zapletena in zahteva znanje Fourierove analize. Več si lahko preberete v:\n",
    "E. Lindal, O. Edholm. Mesoscopic Undulations and Thickness Fluctuations in Lipid Bilayers from Molecular Dynamics Simulations, Biophysical Journal, Volume 79, Issue 1, 426 - 433."
   ]
  }
 ],
 "metadata": {
  "kernelspec": {
   "display_name": "Python 3 (ipykernel)",
   "language": "python",
   "name": "python3"
  },
  "language_info": {
   "codemirror_mode": {
    "name": "ipython",
    "version": 3
   },
   "file_extension": ".py",
   "mimetype": "text/x-python",
   "name": "python",
   "nbconvert_exporter": "python",
   "pygments_lexer": "ipython3",
   "version": "3.13.0"
  }
 },
 "nbformat": 4,
 "nbformat_minor": 5
}
